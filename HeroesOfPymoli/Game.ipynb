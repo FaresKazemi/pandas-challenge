{
 "cells": [
  {
   "cell_type": "code",
   "execution_count": 1,
   "metadata": {},
   "outputs": [
    {
     "data": {
      "text/html": [
       "<div>\n",
       "<style scoped>\n",
       "    .dataframe tbody tr th:only-of-type {\n",
       "        vertical-align: middle;\n",
       "    }\n",
       "\n",
       "    .dataframe tbody tr th {\n",
       "        vertical-align: top;\n",
       "    }\n",
       "\n",
       "    .dataframe thead th {\n",
       "        text-align: right;\n",
       "    }\n",
       "</style>\n",
       "<table border=\"1\" class=\"dataframe\">\n",
       "  <thead>\n",
       "    <tr style=\"text-align: right;\">\n",
       "      <th></th>\n",
       "      <th>Purchase ID</th>\n",
       "      <th>SN</th>\n",
       "      <th>Age</th>\n",
       "      <th>Gender</th>\n",
       "      <th>Item ID</th>\n",
       "      <th>Item Name</th>\n",
       "      <th>Price</th>\n",
       "    </tr>\n",
       "  </thead>\n",
       "  <tbody>\n",
       "    <tr>\n",
       "      <th>0</th>\n",
       "      <td>0</td>\n",
       "      <td>Lisim78</td>\n",
       "      <td>20</td>\n",
       "      <td>Male</td>\n",
       "      <td>108</td>\n",
       "      <td>Extraction, Quickblade Of Trembling Hands</td>\n",
       "      <td>3.53</td>\n",
       "    </tr>\n",
       "    <tr>\n",
       "      <th>1</th>\n",
       "      <td>1</td>\n",
       "      <td>Lisovynya38</td>\n",
       "      <td>40</td>\n",
       "      <td>Male</td>\n",
       "      <td>143</td>\n",
       "      <td>Frenzied Scimitar</td>\n",
       "      <td>1.56</td>\n",
       "    </tr>\n",
       "    <tr>\n",
       "      <th>2</th>\n",
       "      <td>2</td>\n",
       "      <td>Ithergue48</td>\n",
       "      <td>24</td>\n",
       "      <td>Male</td>\n",
       "      <td>92</td>\n",
       "      <td>Final Critic</td>\n",
       "      <td>4.88</td>\n",
       "    </tr>\n",
       "    <tr>\n",
       "      <th>3</th>\n",
       "      <td>3</td>\n",
       "      <td>Chamassasya86</td>\n",
       "      <td>24</td>\n",
       "      <td>Male</td>\n",
       "      <td>100</td>\n",
       "      <td>Blindscythe</td>\n",
       "      <td>3.27</td>\n",
       "    </tr>\n",
       "    <tr>\n",
       "      <th>4</th>\n",
       "      <td>4</td>\n",
       "      <td>Iskosia90</td>\n",
       "      <td>23</td>\n",
       "      <td>Male</td>\n",
       "      <td>131</td>\n",
       "      <td>Fury</td>\n",
       "      <td>1.44</td>\n",
       "    </tr>\n",
       "    <tr>\n",
       "      <th>...</th>\n",
       "      <td>...</td>\n",
       "      <td>...</td>\n",
       "      <td>...</td>\n",
       "      <td>...</td>\n",
       "      <td>...</td>\n",
       "      <td>...</td>\n",
       "      <td>...</td>\n",
       "    </tr>\n",
       "    <tr>\n",
       "      <th>775</th>\n",
       "      <td>775</td>\n",
       "      <td>Aethedru70</td>\n",
       "      <td>21</td>\n",
       "      <td>Female</td>\n",
       "      <td>60</td>\n",
       "      <td>Wolf</td>\n",
       "      <td>3.54</td>\n",
       "    </tr>\n",
       "    <tr>\n",
       "      <th>776</th>\n",
       "      <td>776</td>\n",
       "      <td>Iral74</td>\n",
       "      <td>21</td>\n",
       "      <td>Male</td>\n",
       "      <td>164</td>\n",
       "      <td>Exiled Doomblade</td>\n",
       "      <td>1.63</td>\n",
       "    </tr>\n",
       "    <tr>\n",
       "      <th>777</th>\n",
       "      <td>777</td>\n",
       "      <td>Yathecal72</td>\n",
       "      <td>20</td>\n",
       "      <td>Male</td>\n",
       "      <td>67</td>\n",
       "      <td>Celeste, Incarnation of the Corrupted</td>\n",
       "      <td>3.46</td>\n",
       "    </tr>\n",
       "    <tr>\n",
       "      <th>778</th>\n",
       "      <td>778</td>\n",
       "      <td>Sisur91</td>\n",
       "      <td>7</td>\n",
       "      <td>Male</td>\n",
       "      <td>92</td>\n",
       "      <td>Final Critic</td>\n",
       "      <td>4.19</td>\n",
       "    </tr>\n",
       "    <tr>\n",
       "      <th>779</th>\n",
       "      <td>779</td>\n",
       "      <td>Ennrian78</td>\n",
       "      <td>24</td>\n",
       "      <td>Male</td>\n",
       "      <td>50</td>\n",
       "      <td>Dawn</td>\n",
       "      <td>4.60</td>\n",
       "    </tr>\n",
       "  </tbody>\n",
       "</table>\n",
       "<p>780 rows × 7 columns</p>\n",
       "</div>"
      ],
      "text/plain": [
       "     Purchase ID             SN  Age  Gender  Item ID  \\\n",
       "0              0        Lisim78   20    Male      108   \n",
       "1              1    Lisovynya38   40    Male      143   \n",
       "2              2     Ithergue48   24    Male       92   \n",
       "3              3  Chamassasya86   24    Male      100   \n",
       "4              4      Iskosia90   23    Male      131   \n",
       "..           ...            ...  ...     ...      ...   \n",
       "775          775     Aethedru70   21  Female       60   \n",
       "776          776         Iral74   21    Male      164   \n",
       "777          777     Yathecal72   20    Male       67   \n",
       "778          778        Sisur91    7    Male       92   \n",
       "779          779      Ennrian78   24    Male       50   \n",
       "\n",
       "                                     Item Name  Price  \n",
       "0    Extraction, Quickblade Of Trembling Hands   3.53  \n",
       "1                            Frenzied Scimitar   1.56  \n",
       "2                                 Final Critic   4.88  \n",
       "3                                  Blindscythe   3.27  \n",
       "4                                         Fury   1.44  \n",
       "..                                         ...    ...  \n",
       "775                                       Wolf   3.54  \n",
       "776                           Exiled Doomblade   1.63  \n",
       "777      Celeste, Incarnation of the Corrupted   3.46  \n",
       "778                               Final Critic   4.19  \n",
       "779                                       Dawn   4.60  \n",
       "\n",
       "[780 rows x 7 columns]"
      ]
     },
     "execution_count": 1,
     "metadata": {},
     "output_type": "execute_result"
    }
   ],
   "source": [
    "import pandas as pd\n",
    "import numpy as np\n",
    "\n",
    "Raw_Data = \"Resources/purchase_data.csv\"\n",
    "\n",
    "purchase_data = pd.read_csv(Raw_Data)\n",
    "\n",
    "purchase_data\n"
   ]
  },
  {
   "cell_type": "markdown",
   "metadata": {},
   "source": [
    "## Player Count"
   ]
  },
  {
   "cell_type": "code",
   "execution_count": 2,
   "metadata": {},
   "outputs": [
    {
     "data": {
      "text/html": [
       "<div>\n",
       "<style scoped>\n",
       "    .dataframe tbody tr th:only-of-type {\n",
       "        vertical-align: middle;\n",
       "    }\n",
       "\n",
       "    .dataframe tbody tr th {\n",
       "        vertical-align: top;\n",
       "    }\n",
       "\n",
       "    .dataframe thead th {\n",
       "        text-align: right;\n",
       "    }\n",
       "</style>\n",
       "<table border=\"1\" class=\"dataframe\">\n",
       "  <thead>\n",
       "    <tr style=\"text-align: right;\">\n",
       "      <th></th>\n",
       "      <th>Player Count</th>\n",
       "    </tr>\n",
       "  </thead>\n",
       "  <tbody>\n",
       "    <tr>\n",
       "      <th>0</th>\n",
       "      <td>576</td>\n",
       "    </tr>\n",
       "  </tbody>\n",
       "</table>\n",
       "</div>"
      ],
      "text/plain": [
       "   Player Count\n",
       "0           576"
      ]
     },
     "execution_count": 2,
     "metadata": {},
     "output_type": "execute_result"
    }
   ],
   "source": [
    "Total_Player = len(purchase_data[\"SN\"].unique())\n",
    "PlayerCount_df = pd.DataFrame()\n",
    "\n",
    "PlayerCount_df[\"Player Count\"] = [Total_Player]\n",
    "PlayerCount_df"
   ]
  },
  {
   "cell_type": "markdown",
   "metadata": {},
   "source": [
    "## Purchasing Analysis (Total)"
   ]
  },
  {
   "cell_type": "code",
   "execution_count": 3,
   "metadata": {},
   "outputs": [
    {
     "data": {
      "text/html": [
       "<div>\n",
       "<style scoped>\n",
       "    .dataframe tbody tr th:only-of-type {\n",
       "        vertical-align: middle;\n",
       "    }\n",
       "\n",
       "    .dataframe tbody tr th {\n",
       "        vertical-align: top;\n",
       "    }\n",
       "\n",
       "    .dataframe thead th {\n",
       "        text-align: right;\n",
       "    }\n",
       "</style>\n",
       "<table border=\"1\" class=\"dataframe\">\n",
       "  <thead>\n",
       "    <tr style=\"text-align: right;\">\n",
       "      <th></th>\n",
       "      <th>Number of Unique Items</th>\n",
       "      <th>Average Price</th>\n",
       "      <th>Number of Purchases</th>\n",
       "      <th>Total Revenue</th>\n",
       "    </tr>\n",
       "  </thead>\n",
       "  <tbody>\n",
       "    <tr>\n",
       "      <th>0</th>\n",
       "      <td>179</td>\n",
       "      <td>3.05</td>\n",
       "      <td>780</td>\n",
       "      <td>2379.77</td>\n",
       "    </tr>\n",
       "  </tbody>\n",
       "</table>\n",
       "</div>"
      ],
      "text/plain": [
       "   Number of Unique Items  Average Price  Number of Purchases  Total Revenue\n",
       "0                     179           3.05                  780        2379.77"
      ]
     },
     "execution_count": 3,
     "metadata": {},
     "output_type": "execute_result"
    }
   ],
   "source": [
    "Number_Of_Unique_Items = len(purchase_data[\"Item Name\"].unique())\n",
    "#Number_Of_Unique_Items\n",
    "Average_price = purchase_data[\"Price\"].mean()\n",
    "#Average_price\n",
    "Number_of_purchases = len(purchase_data[\"Purchase ID\"])\n",
    "#Number_of_purchases\n",
    "Total_revenue = sum(purchase_data[\"Price\"])\n",
    "#Total_revenue\n",
    "Purchase_analysis_tool = pd.DataFrame()\n",
    "Purchase_analysis_tool[\"Number of Unique Items\"] = [Number_Of_Unique_Items]\n",
    "Purchase_analysis_tool[\"Average Price\"] = [Average_price]\n",
    "Purchase_analysis_tool[\"Number of Purchases\"] = [Number_of_purchases]\n",
    "Purchase_analysis_tool[\"Total Revenue\"] = [Total_revenue]\n",
    "\n",
    "Purchase_analysis_tool.round(2)"
   ]
  },
  {
   "cell_type": "markdown",
   "metadata": {},
   "source": [
    "## Gender Demographics"
   ]
  },
  {
   "cell_type": "code",
   "execution_count": 4,
   "metadata": {},
   "outputs": [
    {
     "data": {
      "text/html": [
       "<style  type=\"text/css\" >\n",
       "</style><table id=\"T_1e3ba222_bc7b_11ec_811c_48a472d6eeac\" ><thead>    <tr>        <th class=\"blank level0\" ></th>        <th class=\"col_heading level0 col0\" >Total Count</th>        <th class=\"col_heading level0 col1\" >Percentage of Players</th>    </tr>    <tr>        <th class=\"index_name level0\" >Gender</th>        <th class=\"blank\" ></th>        <th class=\"blank\" ></th>    </tr></thead><tbody>\n",
       "                <tr>\n",
       "                        <th id=\"T_1e3ba222_bc7b_11ec_811c_48a472d6eeaclevel0_row0\" class=\"row_heading level0 row0\" >Male</th>\n",
       "                        <td id=\"T_1e3ba222_bc7b_11ec_811c_48a472d6eeacrow0_col0\" class=\"data row0 col0\" >484</td>\n",
       "                        <td id=\"T_1e3ba222_bc7b_11ec_811c_48a472d6eeacrow0_col1\" class=\"data row0 col1\" >84.03%</td>\n",
       "            </tr>\n",
       "            <tr>\n",
       "                        <th id=\"T_1e3ba222_bc7b_11ec_811c_48a472d6eeaclevel0_row1\" class=\"row_heading level0 row1\" >Female</th>\n",
       "                        <td id=\"T_1e3ba222_bc7b_11ec_811c_48a472d6eeacrow1_col0\" class=\"data row1 col0\" >81</td>\n",
       "                        <td id=\"T_1e3ba222_bc7b_11ec_811c_48a472d6eeacrow1_col1\" class=\"data row1 col1\" >14.06%</td>\n",
       "            </tr>\n",
       "            <tr>\n",
       "                        <th id=\"T_1e3ba222_bc7b_11ec_811c_48a472d6eeaclevel0_row2\" class=\"row_heading level0 row2\" >Other / Non-Disclosed</th>\n",
       "                        <td id=\"T_1e3ba222_bc7b_11ec_811c_48a472d6eeacrow2_col0\" class=\"data row2 col0\" >11</td>\n",
       "                        <td id=\"T_1e3ba222_bc7b_11ec_811c_48a472d6eeacrow2_col1\" class=\"data row2 col1\" >1.91%</td>\n",
       "            </tr>\n",
       "    </tbody></table>"
      ],
      "text/plain": [
       "<pandas.io.formats.style.Styler at 0x181cd0d09b0>"
      ]
     },
     "execution_count": 4,
     "metadata": {},
     "output_type": "execute_result"
    }
   ],
   "source": [
    "Demo = purchase_data.loc[:,[\"Gender\",\"SN\",\"Age\",]]\n",
    "Demo = Demo.drop_duplicates()\n",
    "\n",
    "Male_count= len(Demo[Demo[\"Gender\"] == \"Male\"])\n",
    "#Male_count\n",
    "Female_count= len(Demo[Demo[\"Gender\"]== \"Female\"])\n",
    "#Female_count\n",
    "Other_count = len(Demo[Demo[\"Gender\"]== \"Other / Non-Disclosed\"])\n",
    "#Other_count\n",
    "#Total_Player *already calculated above or Count = len(Demo[\"Gender\"])\n",
    "Percentage_male = (Male_count/Total_Player)*100\n",
    "Percentage_female = (Female_count/Total_Player)*100\n",
    "Percentage_other = (Other_count/Total_Player)*100\n",
    "\n",
    "Gender_demographics_df = pd.DataFrame({\"Gender\": [\"Male\",\"Female\",\"Other / Non-Disclosed\"],\"Total Count\": [Male_count,Female_count,Other_count],\"Percentage of Players\": [Percentage_male,Percentage_female,Percentage_other]})\n",
    "\n",
    "#Formatting % and 2 decimal places\n",
    "Gender_demographics_df_final= Gender_demographics_df.set_index(\"Gender\")\n",
    "Gender_demographics_df_final.style.format({\"Percentage of Players\": \"{:.2f}%\"})\n",
    "\n",
    "\n",
    "\n",
    "\n",
    "\n"
   ]
  },
  {
   "cell_type": "markdown",
   "metadata": {},
   "source": [
    "## Purchasing Analysis (Gender)"
   ]
  },
  {
   "cell_type": "code",
   "execution_count": 30,
   "metadata": {},
   "outputs": [
    {
     "data": {
      "text/html": [
       "<style  type=\"text/css\" >\n",
       "</style><table id=\"T_5fec3806_bc80_11ec_85a7_48a472d6eeac\" ><thead>    <tr>        <th class=\"blank level0\" ></th>        <th class=\"col_heading level0 col0\" >Purchase count</th>        <th class=\"col_heading level0 col1\" >Average Purchase Price</th>        <th class=\"col_heading level0 col2\" >Total Purchase Value</th>        <th class=\"col_heading level0 col3\" >Avg Total Purchase Per Person</th>    </tr>    <tr>        <th class=\"index_name level0\" >Gender</th>        <th class=\"blank\" ></th>        <th class=\"blank\" ></th>        <th class=\"blank\" ></th>        <th class=\"blank\" ></th>    </tr></thead><tbody>\n",
       "                <tr>\n",
       "                        <th id=\"T_5fec3806_bc80_11ec_85a7_48a472d6eeaclevel0_row0\" class=\"row_heading level0 row0\" >Female</th>\n",
       "                        <td id=\"T_5fec3806_bc80_11ec_85a7_48a472d6eeacrow0_col0\" class=\"data row0 col0\" >113</td>\n",
       "                        <td id=\"T_5fec3806_bc80_11ec_85a7_48a472d6eeacrow0_col1\" class=\"data row0 col1\" >$3.20</td>\n",
       "                        <td id=\"T_5fec3806_bc80_11ec_85a7_48a472d6eeacrow0_col2\" class=\"data row0 col2\" >$361.94</td>\n",
       "                        <td id=\"T_5fec3806_bc80_11ec_85a7_48a472d6eeacrow0_col3\" class=\"data row0 col3\" >$4.47</td>\n",
       "            </tr>\n",
       "            <tr>\n",
       "                        <th id=\"T_5fec3806_bc80_11ec_85a7_48a472d6eeaclevel0_row1\" class=\"row_heading level0 row1\" >Male</th>\n",
       "                        <td id=\"T_5fec3806_bc80_11ec_85a7_48a472d6eeacrow1_col0\" class=\"data row1 col0\" >652</td>\n",
       "                        <td id=\"T_5fec3806_bc80_11ec_85a7_48a472d6eeacrow1_col1\" class=\"data row1 col1\" >$3.02</td>\n",
       "                        <td id=\"T_5fec3806_bc80_11ec_85a7_48a472d6eeacrow1_col2\" class=\"data row1 col2\" >$1967.64</td>\n",
       "                        <td id=\"T_5fec3806_bc80_11ec_85a7_48a472d6eeacrow1_col3\" class=\"data row1 col3\" >$4.07</td>\n",
       "            </tr>\n",
       "            <tr>\n",
       "                        <th id=\"T_5fec3806_bc80_11ec_85a7_48a472d6eeaclevel0_row2\" class=\"row_heading level0 row2\" >Other / Non-Disclosed</th>\n",
       "                        <td id=\"T_5fec3806_bc80_11ec_85a7_48a472d6eeacrow2_col0\" class=\"data row2 col0\" >15</td>\n",
       "                        <td id=\"T_5fec3806_bc80_11ec_85a7_48a472d6eeacrow2_col1\" class=\"data row2 col1\" >$3.35</td>\n",
       "                        <td id=\"T_5fec3806_bc80_11ec_85a7_48a472d6eeacrow2_col2\" class=\"data row2 col2\" >$50.19</td>\n",
       "                        <td id=\"T_5fec3806_bc80_11ec_85a7_48a472d6eeacrow2_col3\" class=\"data row2 col3\" >$4.56</td>\n",
       "            </tr>\n",
       "    </tbody></table>"
      ],
      "text/plain": [
       "<pandas.io.formats.style.Styler at 0x181cea8a128>"
      ]
     },
     "execution_count": 30,
     "metadata": {},
     "output_type": "execute_result"
    }
   ],
   "source": [
    "# Total Purchase counts\n",
    "Purchase_Cfemale= len(purchase_data[purchase_data[\"Gender\"] ==\"Female\"]) \n",
    "Purchase_Cmale = len(purchase_data[purchase_data[\"Gender\"] ==\"Male\"])\n",
    "Purchase_Cother = len(purchase_data[purchase_data[\"Gender\"] ==\"Other / Non-Disclosed\"])\n",
    "#Total purchase value\n",
    "TPurchase_value_M = purchase_data[purchase_data[\"Gender\"] ==\"Male\"][\"Price\"].sum()\n",
    "TPurchase_value_F = purchase_data[purchase_data[\"Gender\"] ==\"Female\"][\"Price\"].sum()\n",
    "TPurchase_value_O = purchase_data[purchase_data[\"Gender\"] ==\"Other / Non-Disclosed\"][\"Price\"].sum()\n",
    "\n",
    "#Average Purchase Price\n",
    "Average_Female = (TPurchase_value_F/Purchase_Cfemale)\n",
    "Average_Male = (TPurchase_value_M/Purchase_Cmale)\n",
    "Average_other = (TPurchase_value_O/Purchase_Cother)\n",
    "\n",
    "#Average total purchase per person (use counts from table with removed duplicates)\n",
    "Average_TPPP_male= (TPurchase_value_M/Male_count)\n",
    "Average_TPPP_female= (TPurchase_value_F/Female_count)\n",
    "Average_TPPP_Other = (TPurchase_value_O/Other_count)\n",
    "#Create data frame\n",
    "Purchasing_Analysis_Gender_df = pd.DataFrame({\"Gender\": [\"Female\",\"Male\",\"Other / Non-Disclosed\"],\"Purchase count\": [Purchase_Cfemale,Purchase_Cmale,Purchase_Cother],\"Average Purchase Price\": [Average_Female,Average_Male,Average_other],\"Total Purchase Value\":[TPurchase_value_F,TPurchase_value_M,TPurchase_value_O],\"Avg Total Purchase Per Person\":[Average_TPPP_female,Average_TPPP_male,Average_TPPP_Other]})\n",
    "#Format table and values\n",
    "P_analysis_final = Purchasing_Analysis_Gender_df.set_index(\"Gender\")\n",
    "P_analysis_final.style.format({\"Average Purchase Price\":\"${:.2f}\",\"Total Purchase Value\":\"${:.2f}\",\"Avg Total Purchase Per Person\":\"${:.2f}\"})\n",
    "\n"
   ]
  },
  {
   "cell_type": "markdown",
   "metadata": {},
   "source": [
    "## Age Demographics"
   ]
  },
  {
   "cell_type": "code",
   "execution_count": 49,
   "metadata": {},
   "outputs": [
    {
     "data": {
      "text/html": [
       "<style  type=\"text/css\" >\n",
       "</style><table id=\"T_773f291a_bc86_11ec_838f_48a472d6eeac\" ><thead>    <tr>        <th class=\"blank level0\" ></th>        <th class=\"col_heading level0 col0\" >Total Count</th>        <th class=\"col_heading level0 col1\" >Percentage of Players</th>    </tr>    <tr>        <th class=\"index_name level0\" >Age Groups</th>        <th class=\"blank\" ></th>        <th class=\"blank\" ></th>    </tr></thead><tbody>\n",
       "                <tr>\n",
       "                        <th id=\"T_773f291a_bc86_11ec_838f_48a472d6eeaclevel0_row0\" class=\"row_heading level0 row0\" ><10</th>\n",
       "                        <td id=\"T_773f291a_bc86_11ec_838f_48a472d6eeacrow0_col0\" class=\"data row0 col0\" >17</td>\n",
       "                        <td id=\"T_773f291a_bc86_11ec_838f_48a472d6eeacrow0_col1\" class=\"data row0 col1\" >2.95%</td>\n",
       "            </tr>\n",
       "            <tr>\n",
       "                        <th id=\"T_773f291a_bc86_11ec_838f_48a472d6eeaclevel0_row1\" class=\"row_heading level0 row1\" >10-14</th>\n",
       "                        <td id=\"T_773f291a_bc86_11ec_838f_48a472d6eeacrow1_col0\" class=\"data row1 col0\" >22</td>\n",
       "                        <td id=\"T_773f291a_bc86_11ec_838f_48a472d6eeacrow1_col1\" class=\"data row1 col1\" >3.82%</td>\n",
       "            </tr>\n",
       "            <tr>\n",
       "                        <th id=\"T_773f291a_bc86_11ec_838f_48a472d6eeaclevel0_row2\" class=\"row_heading level0 row2\" >15-19</th>\n",
       "                        <td id=\"T_773f291a_bc86_11ec_838f_48a472d6eeacrow2_col0\" class=\"data row2 col0\" >107</td>\n",
       "                        <td id=\"T_773f291a_bc86_11ec_838f_48a472d6eeacrow2_col1\" class=\"data row2 col1\" >18.58%</td>\n",
       "            </tr>\n",
       "            <tr>\n",
       "                        <th id=\"T_773f291a_bc86_11ec_838f_48a472d6eeaclevel0_row3\" class=\"row_heading level0 row3\" >20-24</th>\n",
       "                        <td id=\"T_773f291a_bc86_11ec_838f_48a472d6eeacrow3_col0\" class=\"data row3 col0\" >258</td>\n",
       "                        <td id=\"T_773f291a_bc86_11ec_838f_48a472d6eeacrow3_col1\" class=\"data row3 col1\" >44.79%</td>\n",
       "            </tr>\n",
       "            <tr>\n",
       "                        <th id=\"T_773f291a_bc86_11ec_838f_48a472d6eeaclevel0_row4\" class=\"row_heading level0 row4\" >25-29</th>\n",
       "                        <td id=\"T_773f291a_bc86_11ec_838f_48a472d6eeacrow4_col0\" class=\"data row4 col0\" >77</td>\n",
       "                        <td id=\"T_773f291a_bc86_11ec_838f_48a472d6eeacrow4_col1\" class=\"data row4 col1\" >13.37%</td>\n",
       "            </tr>\n",
       "            <tr>\n",
       "                        <th id=\"T_773f291a_bc86_11ec_838f_48a472d6eeaclevel0_row5\" class=\"row_heading level0 row5\" >30-34</th>\n",
       "                        <td id=\"T_773f291a_bc86_11ec_838f_48a472d6eeacrow5_col0\" class=\"data row5 col0\" >52</td>\n",
       "                        <td id=\"T_773f291a_bc86_11ec_838f_48a472d6eeacrow5_col1\" class=\"data row5 col1\" >9.03%</td>\n",
       "            </tr>\n",
       "            <tr>\n",
       "                        <th id=\"T_773f291a_bc86_11ec_838f_48a472d6eeaclevel0_row6\" class=\"row_heading level0 row6\" >35-39</th>\n",
       "                        <td id=\"T_773f291a_bc86_11ec_838f_48a472d6eeacrow6_col0\" class=\"data row6 col0\" >31</td>\n",
       "                        <td id=\"T_773f291a_bc86_11ec_838f_48a472d6eeacrow6_col1\" class=\"data row6 col1\" >5.38%</td>\n",
       "            </tr>\n",
       "            <tr>\n",
       "                        <th id=\"T_773f291a_bc86_11ec_838f_48a472d6eeaclevel0_row7\" class=\"row_heading level0 row7\" >40+</th>\n",
       "                        <td id=\"T_773f291a_bc86_11ec_838f_48a472d6eeacrow7_col0\" class=\"data row7 col0\" >12</td>\n",
       "                        <td id=\"T_773f291a_bc86_11ec_838f_48a472d6eeacrow7_col1\" class=\"data row7 col1\" >2.08%</td>\n",
       "            </tr>\n",
       "    </tbody></table>"
      ],
      "text/plain": [
       "<pandas.io.formats.style.Styler at 0x181cedc2978>"
      ]
     },
     "execution_count": 49,
     "metadata": {},
     "output_type": "execute_result"
    }
   ],
   "source": [
    "Demo_new = purchase_data.loc[:,[\"SN\",\"Age\"]]\n",
    "Demo_new = Demo_new.drop_duplicates()\n",
    "#Demo_new\n",
    "\n",
    "bins = [0,9.9,14.9,19.9,24.9,29.9,34.9,39.9,50]\n",
    "bins_names = [\"<10\", \"10-14\", \"15-19\", \"20-24\", \"25-29\", \"30-34\", \"35-39\", \"40+\"]\n",
    "Demo_new[\"Age Groups\"] = pd.cut(Demo_new[\"Age\"], bins, labels=bins_names)\n",
    "Demo_new.head(10)\n",
    "\n",
    "agegroup = Demo_new.groupby(\"Age Groups\")\n",
    "tot_count = agegroup[\"Age\"].count()\n",
    "percent_age = tot_count / Total_Player\n",
    "\n",
    "#Dataframe and subsequent editing\n",
    "age_demo = pd.DataFrame({\"Total Count\":tot_count, \"Percentage of Players\":percent_age})\n",
    "age_demo.style.format({\"Percentage of Players\":\"{:.2%}\"})\n",
    "\n"
   ]
  },
  {
   "cell_type": "markdown",
   "metadata": {},
   "source": [
    "## Purchasing analysis (AGE)"
   ]
  },
  {
   "cell_type": "code",
   "execution_count": 50,
   "metadata": {},
   "outputs": [
    {
     "data": {
      "text/html": [
       "<style  type=\"text/css\" >\n",
       "</style><table id=\"T_a1d45e1e_bc87_11ec_bfb7_48a472d6eeac\" ><thead>    <tr>        <th class=\"blank level0\" ></th>        <th class=\"col_heading level0 col0\" >Purchase Count</th>        <th class=\"col_heading level0 col1\" >Average Purchase Price</th>        <th class=\"col_heading level0 col2\" >Total Purchase Value</th>        <th class=\"col_heading level0 col3\" >Avg Total Purchase per Person</th>    </tr>    <tr>        <th class=\"index_name level0\" >Age Group</th>        <th class=\"blank\" ></th>        <th class=\"blank\" ></th>        <th class=\"blank\" ></th>        <th class=\"blank\" ></th>    </tr></thead><tbody>\n",
       "                <tr>\n",
       "                        <th id=\"T_a1d45e1e_bc87_11ec_bfb7_48a472d6eeaclevel0_row0\" class=\"row_heading level0 row0\" ><10</th>\n",
       "                        <td id=\"T_a1d45e1e_bc87_11ec_bfb7_48a472d6eeacrow0_col0\" class=\"data row0 col0\" >23</td>\n",
       "                        <td id=\"T_a1d45e1e_bc87_11ec_bfb7_48a472d6eeacrow0_col1\" class=\"data row0 col1\" >$3.35</td>\n",
       "                        <td id=\"T_a1d45e1e_bc87_11ec_bfb7_48a472d6eeacrow0_col2\" class=\"data row0 col2\" >$77.13</td>\n",
       "                        <td id=\"T_a1d45e1e_bc87_11ec_bfb7_48a472d6eeacrow0_col3\" class=\"data row0 col3\" >$4.54</td>\n",
       "            </tr>\n",
       "            <tr>\n",
       "                        <th id=\"T_a1d45e1e_bc87_11ec_bfb7_48a472d6eeaclevel0_row1\" class=\"row_heading level0 row1\" >10-14</th>\n",
       "                        <td id=\"T_a1d45e1e_bc87_11ec_bfb7_48a472d6eeacrow1_col0\" class=\"data row1 col0\" >28</td>\n",
       "                        <td id=\"T_a1d45e1e_bc87_11ec_bfb7_48a472d6eeacrow1_col1\" class=\"data row1 col1\" >$2.96</td>\n",
       "                        <td id=\"T_a1d45e1e_bc87_11ec_bfb7_48a472d6eeacrow1_col2\" class=\"data row1 col2\" >$82.78</td>\n",
       "                        <td id=\"T_a1d45e1e_bc87_11ec_bfb7_48a472d6eeacrow1_col3\" class=\"data row1 col3\" >$3.76</td>\n",
       "            </tr>\n",
       "            <tr>\n",
       "                        <th id=\"T_a1d45e1e_bc87_11ec_bfb7_48a472d6eeaclevel0_row2\" class=\"row_heading level0 row2\" >15-19</th>\n",
       "                        <td id=\"T_a1d45e1e_bc87_11ec_bfb7_48a472d6eeacrow2_col0\" class=\"data row2 col0\" >136</td>\n",
       "                        <td id=\"T_a1d45e1e_bc87_11ec_bfb7_48a472d6eeacrow2_col1\" class=\"data row2 col1\" >$3.04</td>\n",
       "                        <td id=\"T_a1d45e1e_bc87_11ec_bfb7_48a472d6eeacrow2_col2\" class=\"data row2 col2\" >$412.89</td>\n",
       "                        <td id=\"T_a1d45e1e_bc87_11ec_bfb7_48a472d6eeacrow2_col3\" class=\"data row2 col3\" >$3.86</td>\n",
       "            </tr>\n",
       "            <tr>\n",
       "                        <th id=\"T_a1d45e1e_bc87_11ec_bfb7_48a472d6eeaclevel0_row3\" class=\"row_heading level0 row3\" >20-24</th>\n",
       "                        <td id=\"T_a1d45e1e_bc87_11ec_bfb7_48a472d6eeacrow3_col0\" class=\"data row3 col0\" >365</td>\n",
       "                        <td id=\"T_a1d45e1e_bc87_11ec_bfb7_48a472d6eeacrow3_col1\" class=\"data row3 col1\" >$3.05</td>\n",
       "                        <td id=\"T_a1d45e1e_bc87_11ec_bfb7_48a472d6eeacrow3_col2\" class=\"data row3 col2\" >$1,114.06</td>\n",
       "                        <td id=\"T_a1d45e1e_bc87_11ec_bfb7_48a472d6eeacrow3_col3\" class=\"data row3 col3\" >$4.32</td>\n",
       "            </tr>\n",
       "            <tr>\n",
       "                        <th id=\"T_a1d45e1e_bc87_11ec_bfb7_48a472d6eeaclevel0_row4\" class=\"row_heading level0 row4\" >25-29</th>\n",
       "                        <td id=\"T_a1d45e1e_bc87_11ec_bfb7_48a472d6eeacrow4_col0\" class=\"data row4 col0\" >101</td>\n",
       "                        <td id=\"T_a1d45e1e_bc87_11ec_bfb7_48a472d6eeacrow4_col1\" class=\"data row4 col1\" >$2.90</td>\n",
       "                        <td id=\"T_a1d45e1e_bc87_11ec_bfb7_48a472d6eeacrow4_col2\" class=\"data row4 col2\" >$293.00</td>\n",
       "                        <td id=\"T_a1d45e1e_bc87_11ec_bfb7_48a472d6eeacrow4_col3\" class=\"data row4 col3\" >$3.81</td>\n",
       "            </tr>\n",
       "            <tr>\n",
       "                        <th id=\"T_a1d45e1e_bc87_11ec_bfb7_48a472d6eeaclevel0_row5\" class=\"row_heading level0 row5\" >30-34</th>\n",
       "                        <td id=\"T_a1d45e1e_bc87_11ec_bfb7_48a472d6eeacrow5_col0\" class=\"data row5 col0\" >73</td>\n",
       "                        <td id=\"T_a1d45e1e_bc87_11ec_bfb7_48a472d6eeacrow5_col1\" class=\"data row5 col1\" >$2.93</td>\n",
       "                        <td id=\"T_a1d45e1e_bc87_11ec_bfb7_48a472d6eeacrow5_col2\" class=\"data row5 col2\" >$214.00</td>\n",
       "                        <td id=\"T_a1d45e1e_bc87_11ec_bfb7_48a472d6eeacrow5_col3\" class=\"data row5 col3\" >$4.12</td>\n",
       "            </tr>\n",
       "            <tr>\n",
       "                        <th id=\"T_a1d45e1e_bc87_11ec_bfb7_48a472d6eeaclevel0_row6\" class=\"row_heading level0 row6\" >35-39</th>\n",
       "                        <td id=\"T_a1d45e1e_bc87_11ec_bfb7_48a472d6eeacrow6_col0\" class=\"data row6 col0\" >41</td>\n",
       "                        <td id=\"T_a1d45e1e_bc87_11ec_bfb7_48a472d6eeacrow6_col1\" class=\"data row6 col1\" >$3.60</td>\n",
       "                        <td id=\"T_a1d45e1e_bc87_11ec_bfb7_48a472d6eeacrow6_col2\" class=\"data row6 col2\" >$147.67</td>\n",
       "                        <td id=\"T_a1d45e1e_bc87_11ec_bfb7_48a472d6eeacrow6_col3\" class=\"data row6 col3\" >$4.76</td>\n",
       "            </tr>\n",
       "            <tr>\n",
       "                        <th id=\"T_a1d45e1e_bc87_11ec_bfb7_48a472d6eeaclevel0_row7\" class=\"row_heading level0 row7\" >40+</th>\n",
       "                        <td id=\"T_a1d45e1e_bc87_11ec_bfb7_48a472d6eeacrow7_col0\" class=\"data row7 col0\" >13</td>\n",
       "                        <td id=\"T_a1d45e1e_bc87_11ec_bfb7_48a472d6eeacrow7_col1\" class=\"data row7 col1\" >$2.94</td>\n",
       "                        <td id=\"T_a1d45e1e_bc87_11ec_bfb7_48a472d6eeacrow7_col2\" class=\"data row7 col2\" >$38.24</td>\n",
       "                        <td id=\"T_a1d45e1e_bc87_11ec_bfb7_48a472d6eeacrow7_col3\" class=\"data row7 col3\" >$3.19</td>\n",
       "            </tr>\n",
       "    </tbody></table>"
      ],
      "text/plain": [
       "<pandas.io.formats.style.Styler at 0x181cedc2f98>"
      ]
     },
     "execution_count": 50,
     "metadata": {},
     "output_type": "execute_result"
    }
   ],
   "source": [
    "#Using same Bins and labels as above\n",
    "purchase_data[\"Age Group\"] = pd.cut(purchase_data[\"Age\"], bins, labels=bins_names)\n",
    "age_group = purchase_data.groupby(\"Age Group\")\n",
    "age_group.head()\n",
    "\n",
    "#\n",
    "pcount = age_group[\"Purchase ID\"].count()\n",
    "avg_pp = age_group[\"Price\"].mean()\n",
    "tot_pv = age_group[\"Price\"].sum()\n",
    "avg_totppp = tot_pv / tot_count\n",
    "\n",
    "#Dataframe and subsequent editing\n",
    "age_analysis = pd.DataFrame({\"Purchase Count\":pcount, \"Average Purchase Price\":avg_pp, \"Total Purchase Value\":tot_pv, \"Avg Total Purchase per Person\":avg_totppp})\n",
    "age_analysis.style.format({\"Average Purchase Price\":\"${:,.2f}\", \"Total Purchase Value\":\"${:,.2f}\", \"Avg Total Purchase per Person\":\"${:,.2f}\"})\n",
    "\n"
   ]
  },
  {
   "cell_type": "markdown",
   "metadata": {},
   "source": [
    "## Top Spenders"
   ]
  },
  {
   "cell_type": "code",
   "execution_count": 53,
   "metadata": {},
   "outputs": [
    {
     "data": {
      "text/html": [
       "<style  type=\"text/css\" >\n",
       "</style><table id=\"T_736b5a78_bc88_11ec_961a_48a472d6eeac\" ><thead>    <tr>        <th class=\"blank level0\" ></th>        <th class=\"col_heading level0 col0\" >Purchase Count</th>        <th class=\"col_heading level0 col1\" >Average Purchase Price</th>        <th class=\"col_heading level0 col2\" >Total Purchase Value</th>    </tr>    <tr>        <th class=\"index_name level0\" >SN</th>        <th class=\"blank\" ></th>        <th class=\"blank\" ></th>        <th class=\"blank\" ></th>    </tr></thead><tbody>\n",
       "                <tr>\n",
       "                        <th id=\"T_736b5a78_bc88_11ec_961a_48a472d6eeaclevel0_row0\" class=\"row_heading level0 row0\" >Lisosia93</th>\n",
       "                        <td id=\"T_736b5a78_bc88_11ec_961a_48a472d6eeacrow0_col0\" class=\"data row0 col0\" >5</td>\n",
       "                        <td id=\"T_736b5a78_bc88_11ec_961a_48a472d6eeacrow0_col1\" class=\"data row0 col1\" >$3.79</td>\n",
       "                        <td id=\"T_736b5a78_bc88_11ec_961a_48a472d6eeacrow0_col2\" class=\"data row0 col2\" >$18.96</td>\n",
       "            </tr>\n",
       "            <tr>\n",
       "                        <th id=\"T_736b5a78_bc88_11ec_961a_48a472d6eeaclevel0_row1\" class=\"row_heading level0 row1\" >Idastidru52</th>\n",
       "                        <td id=\"T_736b5a78_bc88_11ec_961a_48a472d6eeacrow1_col0\" class=\"data row1 col0\" >4</td>\n",
       "                        <td id=\"T_736b5a78_bc88_11ec_961a_48a472d6eeacrow1_col1\" class=\"data row1 col1\" >$3.86</td>\n",
       "                        <td id=\"T_736b5a78_bc88_11ec_961a_48a472d6eeacrow1_col2\" class=\"data row1 col2\" >$15.45</td>\n",
       "            </tr>\n",
       "            <tr>\n",
       "                        <th id=\"T_736b5a78_bc88_11ec_961a_48a472d6eeaclevel0_row2\" class=\"row_heading level0 row2\" >Chamjask73</th>\n",
       "                        <td id=\"T_736b5a78_bc88_11ec_961a_48a472d6eeacrow2_col0\" class=\"data row2 col0\" >3</td>\n",
       "                        <td id=\"T_736b5a78_bc88_11ec_961a_48a472d6eeacrow2_col1\" class=\"data row2 col1\" >$4.61</td>\n",
       "                        <td id=\"T_736b5a78_bc88_11ec_961a_48a472d6eeacrow2_col2\" class=\"data row2 col2\" >$13.83</td>\n",
       "            </tr>\n",
       "            <tr>\n",
       "                        <th id=\"T_736b5a78_bc88_11ec_961a_48a472d6eeaclevel0_row3\" class=\"row_heading level0 row3\" >Iral74</th>\n",
       "                        <td id=\"T_736b5a78_bc88_11ec_961a_48a472d6eeacrow3_col0\" class=\"data row3 col0\" >4</td>\n",
       "                        <td id=\"T_736b5a78_bc88_11ec_961a_48a472d6eeacrow3_col1\" class=\"data row3 col1\" >$3.40</td>\n",
       "                        <td id=\"T_736b5a78_bc88_11ec_961a_48a472d6eeacrow3_col2\" class=\"data row3 col2\" >$13.62</td>\n",
       "            </tr>\n",
       "            <tr>\n",
       "                        <th id=\"T_736b5a78_bc88_11ec_961a_48a472d6eeaclevel0_row4\" class=\"row_heading level0 row4\" >Iskadarya95</th>\n",
       "                        <td id=\"T_736b5a78_bc88_11ec_961a_48a472d6eeacrow4_col0\" class=\"data row4 col0\" >3</td>\n",
       "                        <td id=\"T_736b5a78_bc88_11ec_961a_48a472d6eeacrow4_col1\" class=\"data row4 col1\" >$4.37</td>\n",
       "                        <td id=\"T_736b5a78_bc88_11ec_961a_48a472d6eeacrow4_col2\" class=\"data row4 col2\" >$13.10</td>\n",
       "            </tr>\n",
       "    </tbody></table>"
      ],
      "text/plain": [
       "<pandas.io.formats.style.Styler at 0x181cedb85c0>"
      ]
     },
     "execution_count": 53,
     "metadata": {},
     "output_type": "execute_result"
    }
   ],
   "source": [
    "\n",
    "Spender = purchase_data.groupby(\"SN\")\n",
    "\n",
    "#perform calculations\n",
    "Purchase_count = Spender[\"Purchase ID\"].count()\n",
    "Average_purchase_price = Spender[\"Price\"].mean()\n",
    "Total_purchase_Value = Spender[\"Price\"].sum()\n",
    "\n",
    "#Dataframe creation\n",
    "Spender = pd.DataFrame({\"Purchase Count\":Purchase_count, \"Average Purchase Price\":Average_purchase_price, \"Total Purchase Value\":Total_purchase_Value})\n",
    "Spender\n",
    "\n",
    "#Formatting\n",
    "Spender = Spender.sort_values([\"Total Purchase Value\"], ascending=False).head()\n",
    "Spender.style.format({\"Average Purchase Price\":\"${:,.2f}\", \"Total Purchase Value\":\"${:,.2f}\"})"
   ]
  },
  {
   "cell_type": "markdown",
   "metadata": {},
   "source": [
    "## Most Popular Items"
   ]
  },
  {
   "cell_type": "code",
   "execution_count": 54,
   "metadata": {},
   "outputs": [
    {
     "data": {
      "text/html": [
       "<style  type=\"text/css\" >\n",
       "</style><table id=\"T_bcc293b0_bc88_11ec_ac0a_48a472d6eeac\" ><thead>    <tr>        <th class=\"blank\" ></th>        <th class=\"blank level0\" ></th>        <th class=\"col_heading level0 col0\" >Purchase Count</th>        <th class=\"col_heading level0 col1\" >Item Price</th>        <th class=\"col_heading level0 col2\" >Total Purchase Value</th>    </tr>    <tr>        <th class=\"index_name level0\" >Item ID</th>        <th class=\"index_name level1\" >Item Name</th>        <th class=\"blank\" ></th>        <th class=\"blank\" ></th>        <th class=\"blank\" ></th>    </tr></thead><tbody>\n",
       "                <tr>\n",
       "                        <th id=\"T_bcc293b0_bc88_11ec_ac0a_48a472d6eeaclevel0_row0\" class=\"row_heading level0 row0\" >92</th>\n",
       "                        <th id=\"T_bcc293b0_bc88_11ec_ac0a_48a472d6eeaclevel1_row0\" class=\"row_heading level1 row0\" >Final Critic</th>\n",
       "                        <td id=\"T_bcc293b0_bc88_11ec_ac0a_48a472d6eeacrow0_col0\" class=\"data row0 col0\" >13</td>\n",
       "                        <td id=\"T_bcc293b0_bc88_11ec_ac0a_48a472d6eeacrow0_col1\" class=\"data row0 col1\" >$4.61</td>\n",
       "                        <td id=\"T_bcc293b0_bc88_11ec_ac0a_48a472d6eeacrow0_col2\" class=\"data row0 col2\" >$59.99</td>\n",
       "            </tr>\n",
       "            <tr>\n",
       "                        <th id=\"T_bcc293b0_bc88_11ec_ac0a_48a472d6eeaclevel0_row1\" class=\"row_heading level0 row1\" >178</th>\n",
       "                        <th id=\"T_bcc293b0_bc88_11ec_ac0a_48a472d6eeaclevel1_row1\" class=\"row_heading level1 row1\" >Oathbreaker, Last Hope of the Breaking Storm</th>\n",
       "                        <td id=\"T_bcc293b0_bc88_11ec_ac0a_48a472d6eeacrow1_col0\" class=\"data row1 col0\" >12</td>\n",
       "                        <td id=\"T_bcc293b0_bc88_11ec_ac0a_48a472d6eeacrow1_col1\" class=\"data row1 col1\" >$4.23</td>\n",
       "                        <td id=\"T_bcc293b0_bc88_11ec_ac0a_48a472d6eeacrow1_col2\" class=\"data row1 col2\" >$50.76</td>\n",
       "            </tr>\n",
       "            <tr>\n",
       "                        <th id=\"T_bcc293b0_bc88_11ec_ac0a_48a472d6eeaclevel0_row2\" class=\"row_heading level0 row2\" >145</th>\n",
       "                        <th id=\"T_bcc293b0_bc88_11ec_ac0a_48a472d6eeaclevel1_row2\" class=\"row_heading level1 row2\" >Fiery Glass Crusader</th>\n",
       "                        <td id=\"T_bcc293b0_bc88_11ec_ac0a_48a472d6eeacrow2_col0\" class=\"data row2 col0\" >9</td>\n",
       "                        <td id=\"T_bcc293b0_bc88_11ec_ac0a_48a472d6eeacrow2_col1\" class=\"data row2 col1\" >$4.58</td>\n",
       "                        <td id=\"T_bcc293b0_bc88_11ec_ac0a_48a472d6eeacrow2_col2\" class=\"data row2 col2\" >$41.22</td>\n",
       "            </tr>\n",
       "            <tr>\n",
       "                        <th id=\"T_bcc293b0_bc88_11ec_ac0a_48a472d6eeaclevel0_row3\" class=\"row_heading level0 row3\" >132</th>\n",
       "                        <th id=\"T_bcc293b0_bc88_11ec_ac0a_48a472d6eeaclevel1_row3\" class=\"row_heading level1 row3\" >Persuasion</th>\n",
       "                        <td id=\"T_bcc293b0_bc88_11ec_ac0a_48a472d6eeacrow3_col0\" class=\"data row3 col0\" >9</td>\n",
       "                        <td id=\"T_bcc293b0_bc88_11ec_ac0a_48a472d6eeacrow3_col1\" class=\"data row3 col1\" >$3.22</td>\n",
       "                        <td id=\"T_bcc293b0_bc88_11ec_ac0a_48a472d6eeacrow3_col2\" class=\"data row3 col2\" >$28.99</td>\n",
       "            </tr>\n",
       "            <tr>\n",
       "                        <th id=\"T_bcc293b0_bc88_11ec_ac0a_48a472d6eeaclevel0_row4\" class=\"row_heading level0 row4\" >108</th>\n",
       "                        <th id=\"T_bcc293b0_bc88_11ec_ac0a_48a472d6eeaclevel1_row4\" class=\"row_heading level1 row4\" >Extraction, Quickblade Of Trembling Hands</th>\n",
       "                        <td id=\"T_bcc293b0_bc88_11ec_ac0a_48a472d6eeacrow4_col0\" class=\"data row4 col0\" >9</td>\n",
       "                        <td id=\"T_bcc293b0_bc88_11ec_ac0a_48a472d6eeacrow4_col1\" class=\"data row4 col1\" >$3.53</td>\n",
       "                        <td id=\"T_bcc293b0_bc88_11ec_ac0a_48a472d6eeacrow4_col2\" class=\"data row4 col2\" >$31.77</td>\n",
       "            </tr>\n",
       "    </tbody></table>"
      ],
      "text/plain": [
       "<pandas.io.formats.style.Styler at 0x181cee0b6d8>"
      ]
     },
     "execution_count": 54,
     "metadata": {},
     "output_type": "execute_result"
    }
   ],
   "source": [
    "\n",
    "Columns = purchase_data[[\"Item ID\", \"Item Name\", \"Price\"]]\n",
    "\n",
    "#Grougby\n",
    "Popular_items = Columns.groupby([\"Item ID\", \"Item Name\"])\n",
    "\n",
    "#calculations\n",
    "pcounts = Popular_items[\"Price\"].count()\n",
    "pvalue = Popular_items[\"Price\"].sum()\n",
    "pprice = pvalue / pcounts\n",
    "\n",
    "#Dataframe creation and editting\n",
    "Popular_items = pd.DataFrame({\"Purchase Count\":pcounts, \"Item Price\":pprice, \"Total Purchase Value\":pvalue})\n",
    "pop_sort = Popular_items.sort_values(\"Purchase Count\", ascending=False).head()\n",
    "pop_sort.style.format({\"Item Price\":\"${:,.2f}\", \"Total Purchase Value\":\"${:,.2f}\"})\n"
   ]
  },
  {
   "cell_type": "markdown",
   "metadata": {},
   "source": [
    "## Most Profitable Items"
   ]
  },
  {
   "cell_type": "code",
   "execution_count": 56,
   "metadata": {},
   "outputs": [
    {
     "data": {
      "text/html": [
       "<style  type=\"text/css\" >\n",
       "</style><table id=\"T_f66a840c_bc88_11ec_b837_48a472d6eeac\" ><thead>    <tr>        <th class=\"blank\" ></th>        <th class=\"blank level0\" ></th>        <th class=\"col_heading level0 col0\" >Purchase Count</th>        <th class=\"col_heading level0 col1\" >Item Price</th>        <th class=\"col_heading level0 col2\" >Total Purchase Value</th>    </tr>    <tr>        <th class=\"index_name level0\" >Item ID</th>        <th class=\"index_name level1\" >Item Name</th>        <th class=\"blank\" ></th>        <th class=\"blank\" ></th>        <th class=\"blank\" ></th>    </tr></thead><tbody>\n",
       "                <tr>\n",
       "                        <th id=\"T_f66a840c_bc88_11ec_b837_48a472d6eeaclevel0_row0\" class=\"row_heading level0 row0\" >92</th>\n",
       "                        <th id=\"T_f66a840c_bc88_11ec_b837_48a472d6eeaclevel1_row0\" class=\"row_heading level1 row0\" >Final Critic</th>\n",
       "                        <td id=\"T_f66a840c_bc88_11ec_b837_48a472d6eeacrow0_col0\" class=\"data row0 col0\" >13</td>\n",
       "                        <td id=\"T_f66a840c_bc88_11ec_b837_48a472d6eeacrow0_col1\" class=\"data row0 col1\" >$4.61</td>\n",
       "                        <td id=\"T_f66a840c_bc88_11ec_b837_48a472d6eeacrow0_col2\" class=\"data row0 col2\" >$59.99</td>\n",
       "            </tr>\n",
       "            <tr>\n",
       "                        <th id=\"T_f66a840c_bc88_11ec_b837_48a472d6eeaclevel0_row1\" class=\"row_heading level0 row1\" >178</th>\n",
       "                        <th id=\"T_f66a840c_bc88_11ec_b837_48a472d6eeaclevel1_row1\" class=\"row_heading level1 row1\" >Oathbreaker, Last Hope of the Breaking Storm</th>\n",
       "                        <td id=\"T_f66a840c_bc88_11ec_b837_48a472d6eeacrow1_col0\" class=\"data row1 col0\" >12</td>\n",
       "                        <td id=\"T_f66a840c_bc88_11ec_b837_48a472d6eeacrow1_col1\" class=\"data row1 col1\" >$4.23</td>\n",
       "                        <td id=\"T_f66a840c_bc88_11ec_b837_48a472d6eeacrow1_col2\" class=\"data row1 col2\" >$50.76</td>\n",
       "            </tr>\n",
       "            <tr>\n",
       "                        <th id=\"T_f66a840c_bc88_11ec_b837_48a472d6eeaclevel0_row2\" class=\"row_heading level0 row2\" >82</th>\n",
       "                        <th id=\"T_f66a840c_bc88_11ec_b837_48a472d6eeaclevel1_row2\" class=\"row_heading level1 row2\" >Nirvana</th>\n",
       "                        <td id=\"T_f66a840c_bc88_11ec_b837_48a472d6eeacrow2_col0\" class=\"data row2 col0\" >9</td>\n",
       "                        <td id=\"T_f66a840c_bc88_11ec_b837_48a472d6eeacrow2_col1\" class=\"data row2 col1\" >$4.90</td>\n",
       "                        <td id=\"T_f66a840c_bc88_11ec_b837_48a472d6eeacrow2_col2\" class=\"data row2 col2\" >$44.10</td>\n",
       "            </tr>\n",
       "            <tr>\n",
       "                        <th id=\"T_f66a840c_bc88_11ec_b837_48a472d6eeaclevel0_row3\" class=\"row_heading level0 row3\" >145</th>\n",
       "                        <th id=\"T_f66a840c_bc88_11ec_b837_48a472d6eeaclevel1_row3\" class=\"row_heading level1 row3\" >Fiery Glass Crusader</th>\n",
       "                        <td id=\"T_f66a840c_bc88_11ec_b837_48a472d6eeacrow3_col0\" class=\"data row3 col0\" >9</td>\n",
       "                        <td id=\"T_f66a840c_bc88_11ec_b837_48a472d6eeacrow3_col1\" class=\"data row3 col1\" >$4.58</td>\n",
       "                        <td id=\"T_f66a840c_bc88_11ec_b837_48a472d6eeacrow3_col2\" class=\"data row3 col2\" >$41.22</td>\n",
       "            </tr>\n",
       "            <tr>\n",
       "                        <th id=\"T_f66a840c_bc88_11ec_b837_48a472d6eeaclevel0_row4\" class=\"row_heading level0 row4\" >103</th>\n",
       "                        <th id=\"T_f66a840c_bc88_11ec_b837_48a472d6eeaclevel1_row4\" class=\"row_heading level1 row4\" >Singed Scalpel</th>\n",
       "                        <td id=\"T_f66a840c_bc88_11ec_b837_48a472d6eeacrow4_col0\" class=\"data row4 col0\" >8</td>\n",
       "                        <td id=\"T_f66a840c_bc88_11ec_b837_48a472d6eeacrow4_col1\" class=\"data row4 col1\" >$4.35</td>\n",
       "                        <td id=\"T_f66a840c_bc88_11ec_b837_48a472d6eeacrow4_col2\" class=\"data row4 col2\" >$34.80</td>\n",
       "            </tr>\n",
       "    </tbody></table>"
      ],
      "text/plain": [
       "<pandas.io.formats.style.Styler at 0x181cede8ef0>"
      ]
     },
     "execution_count": 56,
     "metadata": {},
     "output_type": "execute_result"
    }
   ],
   "source": [
    "pop_prof_sort = Popular_items.sort_values(\"Total Purchase Value\", ascending=False).head()\n",
    "pop_prof_sort.style.format({\"Item Price\":\"${:,.2f}\", \"Total Purchase Value\":\"${:,.2f}\"})                            "
   ]
  }
 ],
 "metadata": {
  "interpreter": {
   "hash": "bcabf1e79f8955defffefcd563b87114081d4335e77565609a5c8bfb73c1f9b3"
  },
  "kernelspec": {
   "display_name": "Python 3.6.10 ('PythonData')",
   "language": "python",
   "name": "python3"
  },
  "language_info": {
   "codemirror_mode": {
    "name": "ipython",
    "version": 3
   },
   "file_extension": ".py",
   "mimetype": "text/x-python",
   "name": "python",
   "nbconvert_exporter": "python",
   "pygments_lexer": "ipython3",
   "version": "3.6.10"
  },
  "orig_nbformat": 4
 },
 "nbformat": 4,
 "nbformat_minor": 2
}
