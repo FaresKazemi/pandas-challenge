{
 "cells": [
  {
   "cell_type": "code",
   "execution_count": 8,
   "metadata": {},
   "outputs": [
    {
     "data": {
      "text/html": [
       "<div>\n",
       "<style scoped>\n",
       "    .dataframe tbody tr th:only-of-type {\n",
       "        vertical-align: middle;\n",
       "    }\n",
       "\n",
       "    .dataframe tbody tr th {\n",
       "        vertical-align: top;\n",
       "    }\n",
       "\n",
       "    .dataframe thead th {\n",
       "        text-align: right;\n",
       "    }\n",
       "</style>\n",
       "<table border=\"1\" class=\"dataframe\">\n",
       "  <thead>\n",
       "    <tr style=\"text-align: right;\">\n",
       "      <th></th>\n",
       "      <th>Purchase ID</th>\n",
       "      <th>SN</th>\n",
       "      <th>Age</th>\n",
       "      <th>Gender</th>\n",
       "      <th>Item ID</th>\n",
       "      <th>Item Name</th>\n",
       "      <th>Price</th>\n",
       "    </tr>\n",
       "  </thead>\n",
       "  <tbody>\n",
       "    <tr>\n",
       "      <th>0</th>\n",
       "      <td>0</td>\n",
       "      <td>Lisim78</td>\n",
       "      <td>20</td>\n",
       "      <td>Male</td>\n",
       "      <td>108</td>\n",
       "      <td>Extraction, Quickblade Of Trembling Hands</td>\n",
       "      <td>3.53</td>\n",
       "    </tr>\n",
       "    <tr>\n",
       "      <th>1</th>\n",
       "      <td>1</td>\n",
       "      <td>Lisovynya38</td>\n",
       "      <td>40</td>\n",
       "      <td>Male</td>\n",
       "      <td>143</td>\n",
       "      <td>Frenzied Scimitar</td>\n",
       "      <td>1.56</td>\n",
       "    </tr>\n",
       "    <tr>\n",
       "      <th>2</th>\n",
       "      <td>2</td>\n",
       "      <td>Ithergue48</td>\n",
       "      <td>24</td>\n",
       "      <td>Male</td>\n",
       "      <td>92</td>\n",
       "      <td>Final Critic</td>\n",
       "      <td>4.88</td>\n",
       "    </tr>\n",
       "    <tr>\n",
       "      <th>3</th>\n",
       "      <td>3</td>\n",
       "      <td>Chamassasya86</td>\n",
       "      <td>24</td>\n",
       "      <td>Male</td>\n",
       "      <td>100</td>\n",
       "      <td>Blindscythe</td>\n",
       "      <td>3.27</td>\n",
       "    </tr>\n",
       "    <tr>\n",
       "      <th>4</th>\n",
       "      <td>4</td>\n",
       "      <td>Iskosia90</td>\n",
       "      <td>23</td>\n",
       "      <td>Male</td>\n",
       "      <td>131</td>\n",
       "      <td>Fury</td>\n",
       "      <td>1.44</td>\n",
       "    </tr>\n",
       "    <tr>\n",
       "      <th>...</th>\n",
       "      <td>...</td>\n",
       "      <td>...</td>\n",
       "      <td>...</td>\n",
       "      <td>...</td>\n",
       "      <td>...</td>\n",
       "      <td>...</td>\n",
       "      <td>...</td>\n",
       "    </tr>\n",
       "    <tr>\n",
       "      <th>775</th>\n",
       "      <td>775</td>\n",
       "      <td>Aethedru70</td>\n",
       "      <td>21</td>\n",
       "      <td>Female</td>\n",
       "      <td>60</td>\n",
       "      <td>Wolf</td>\n",
       "      <td>3.54</td>\n",
       "    </tr>\n",
       "    <tr>\n",
       "      <th>776</th>\n",
       "      <td>776</td>\n",
       "      <td>Iral74</td>\n",
       "      <td>21</td>\n",
       "      <td>Male</td>\n",
       "      <td>164</td>\n",
       "      <td>Exiled Doomblade</td>\n",
       "      <td>1.63</td>\n",
       "    </tr>\n",
       "    <tr>\n",
       "      <th>777</th>\n",
       "      <td>777</td>\n",
       "      <td>Yathecal72</td>\n",
       "      <td>20</td>\n",
       "      <td>Male</td>\n",
       "      <td>67</td>\n",
       "      <td>Celeste, Incarnation of the Corrupted</td>\n",
       "      <td>3.46</td>\n",
       "    </tr>\n",
       "    <tr>\n",
       "      <th>778</th>\n",
       "      <td>778</td>\n",
       "      <td>Sisur91</td>\n",
       "      <td>7</td>\n",
       "      <td>Male</td>\n",
       "      <td>92</td>\n",
       "      <td>Final Critic</td>\n",
       "      <td>4.19</td>\n",
       "    </tr>\n",
       "    <tr>\n",
       "      <th>779</th>\n",
       "      <td>779</td>\n",
       "      <td>Ennrian78</td>\n",
       "      <td>24</td>\n",
       "      <td>Male</td>\n",
       "      <td>50</td>\n",
       "      <td>Dawn</td>\n",
       "      <td>4.60</td>\n",
       "    </tr>\n",
       "  </tbody>\n",
       "</table>\n",
       "<p>780 rows × 7 columns</p>\n",
       "</div>"
      ],
      "text/plain": [
       "     Purchase ID             SN  Age  Gender  Item ID  \\\n",
       "0              0        Lisim78   20    Male      108   \n",
       "1              1    Lisovynya38   40    Male      143   \n",
       "2              2     Ithergue48   24    Male       92   \n",
       "3              3  Chamassasya86   24    Male      100   \n",
       "4              4      Iskosia90   23    Male      131   \n",
       "..           ...            ...  ...     ...      ...   \n",
       "775          775     Aethedru70   21  Female       60   \n",
       "776          776         Iral74   21    Male      164   \n",
       "777          777     Yathecal72   20    Male       67   \n",
       "778          778        Sisur91    7    Male       92   \n",
       "779          779      Ennrian78   24    Male       50   \n",
       "\n",
       "                                     Item Name  Price  \n",
       "0    Extraction, Quickblade Of Trembling Hands   3.53  \n",
       "1                            Frenzied Scimitar   1.56  \n",
       "2                                 Final Critic   4.88  \n",
       "3                                  Blindscythe   3.27  \n",
       "4                                         Fury   1.44  \n",
       "..                                         ...    ...  \n",
       "775                                       Wolf   3.54  \n",
       "776                           Exiled Doomblade   1.63  \n",
       "777      Celeste, Incarnation of the Corrupted   3.46  \n",
       "778                               Final Critic   4.19  \n",
       "779                                       Dawn   4.60  \n",
       "\n",
       "[780 rows x 7 columns]"
      ]
     },
     "execution_count": 8,
     "metadata": {},
     "output_type": "execute_result"
    }
   ],
   "source": [
    "import pandas as pd\n",
    "import numpy as np\n",
    "\n",
    "Raw_Data = \"Resources/purchase_data.csv\"\n",
    "\n",
    "purchase_data = pd.read_csv(Raw_Data)\n",
    "\n",
    "purchase_data\n"
   ]
  },
  {
   "cell_type": "markdown",
   "metadata": {},
   "source": [
    "## Player Count"
   ]
  },
  {
   "cell_type": "code",
   "execution_count": 9,
   "metadata": {},
   "outputs": [
    {
     "data": {
      "text/html": [
       "<div>\n",
       "<style scoped>\n",
       "    .dataframe tbody tr th:only-of-type {\n",
       "        vertical-align: middle;\n",
       "    }\n",
       "\n",
       "    .dataframe tbody tr th {\n",
       "        vertical-align: top;\n",
       "    }\n",
       "\n",
       "    .dataframe thead th {\n",
       "        text-align: right;\n",
       "    }\n",
       "</style>\n",
       "<table border=\"1\" class=\"dataframe\">\n",
       "  <thead>\n",
       "    <tr style=\"text-align: right;\">\n",
       "      <th></th>\n",
       "      <th>Player Count</th>\n",
       "    </tr>\n",
       "  </thead>\n",
       "  <tbody>\n",
       "    <tr>\n",
       "      <th>0</th>\n",
       "      <td>576</td>\n",
       "    </tr>\n",
       "  </tbody>\n",
       "</table>\n",
       "</div>"
      ],
      "text/plain": [
       "   Player Count\n",
       "0           576"
      ]
     },
     "execution_count": 9,
     "metadata": {},
     "output_type": "execute_result"
    }
   ],
   "source": [
    "Total_Player = len(purchase_data[\"SN\"].unique())\n",
    "PlayerCount_df = pd.DataFrame()\n",
    "\n",
    "PlayerCount_df[\"Player Count\"] = [Total_Player]\n",
    "PlayerCount_df"
   ]
  },
  {
   "cell_type": "markdown",
   "metadata": {},
   "source": [
    "## Purchasing Analysis (Total)"
   ]
  },
  {
   "cell_type": "code",
   "execution_count": 10,
   "metadata": {},
   "outputs": [
    {
     "data": {
      "text/html": [
       "<div>\n",
       "<style scoped>\n",
       "    .dataframe tbody tr th:only-of-type {\n",
       "        vertical-align: middle;\n",
       "    }\n",
       "\n",
       "    .dataframe tbody tr th {\n",
       "        vertical-align: top;\n",
       "    }\n",
       "\n",
       "    .dataframe thead th {\n",
       "        text-align: right;\n",
       "    }\n",
       "</style>\n",
       "<table border=\"1\" class=\"dataframe\">\n",
       "  <thead>\n",
       "    <tr style=\"text-align: right;\">\n",
       "      <th></th>\n",
       "      <th>Number of Unique Items</th>\n",
       "      <th>Average Price</th>\n",
       "      <th>Number of Purchases</th>\n",
       "      <th>Total Revenue</th>\n",
       "    </tr>\n",
       "  </thead>\n",
       "  <tbody>\n",
       "    <tr>\n",
       "      <th>0</th>\n",
       "      <td>179</td>\n",
       "      <td>3.05</td>\n",
       "      <td>780</td>\n",
       "      <td>2379.77</td>\n",
       "    </tr>\n",
       "  </tbody>\n",
       "</table>\n",
       "</div>"
      ],
      "text/plain": [
       "   Number of Unique Items  Average Price  Number of Purchases  Total Revenue\n",
       "0                     179           3.05                  780        2379.77"
      ]
     },
     "execution_count": 10,
     "metadata": {},
     "output_type": "execute_result"
    }
   ],
   "source": [
    "Number_Of_Unique_Items = len(purchase_data[\"Item Name\"].unique())\n",
    "#Number_Of_Unique_Items\n",
    "Average_price = purchase_data[\"Price\"].mean()\n",
    "#Average_price\n",
    "Number_of_purchases = len(purchase_data[\"Purchase ID\"])\n",
    "#Number_of_purchases\n",
    "Total_revenue = sum(purchase_data[\"Price\"])\n",
    "#Total_revenue\n",
    "Purchase_analysis_tool = pd.DataFrame()\n",
    "Purchase_analysis_tool[\"Number of Unique Items\"] = [Number_Of_Unique_Items]\n",
    "Purchase_analysis_tool[\"Average Price\"] = [Average_price]\n",
    "Purchase_analysis_tool[\"Number of Purchases\"] = [Number_of_purchases]\n",
    "Purchase_analysis_tool[\"Total Revenue\"] = [Total_revenue]\n",
    "\n",
    "Purchase_analysis_tool.round(2)"
   ]
  },
  {
   "cell_type": "markdown",
   "metadata": {},
   "source": [
    "## Gender Demographics"
   ]
  },
  {
   "cell_type": "code",
   "execution_count": 66,
   "metadata": {},
   "outputs": [
    {
     "data": {
      "text/html": [
       "<style  type=\"text/css\" >\n",
       "</style><table id=\"T_e79436e6_bbd7_11ec_8c01_b89a2a7530b8\" ><thead>    <tr>        <th class=\"blank level0\" ></th>        <th class=\"col_heading level0 col0\" >Total Count</th>        <th class=\"col_heading level0 col1\" >Percentage of Players</th>    </tr>    <tr>        <th class=\"index_name level0\" >Gender</th>        <th class=\"blank\" ></th>        <th class=\"blank\" ></th>    </tr></thead><tbody>\n",
       "                <tr>\n",
       "                        <th id=\"T_e79436e6_bbd7_11ec_8c01_b89a2a7530b8level0_row0\" class=\"row_heading level0 row0\" >Male</th>\n",
       "                        <td id=\"T_e79436e6_bbd7_11ec_8c01_b89a2a7530b8row0_col0\" class=\"data row0 col0\" >484</td>\n",
       "                        <td id=\"T_e79436e6_bbd7_11ec_8c01_b89a2a7530b8row0_col1\" class=\"data row0 col1\" >84.03%</td>\n",
       "            </tr>\n",
       "            <tr>\n",
       "                        <th id=\"T_e79436e6_bbd7_11ec_8c01_b89a2a7530b8level0_row1\" class=\"row_heading level0 row1\" >Female</th>\n",
       "                        <td id=\"T_e79436e6_bbd7_11ec_8c01_b89a2a7530b8row1_col0\" class=\"data row1 col0\" >81</td>\n",
       "                        <td id=\"T_e79436e6_bbd7_11ec_8c01_b89a2a7530b8row1_col1\" class=\"data row1 col1\" >14.06%</td>\n",
       "            </tr>\n",
       "            <tr>\n",
       "                        <th id=\"T_e79436e6_bbd7_11ec_8c01_b89a2a7530b8level0_row2\" class=\"row_heading level0 row2\" >Other / Non-Disclosed</th>\n",
       "                        <td id=\"T_e79436e6_bbd7_11ec_8c01_b89a2a7530b8row2_col0\" class=\"data row2 col0\" >11</td>\n",
       "                        <td id=\"T_e79436e6_bbd7_11ec_8c01_b89a2a7530b8row2_col1\" class=\"data row2 col1\" >1.91%</td>\n",
       "            </tr>\n",
       "    </tbody></table>"
      ],
      "text/plain": [
       "<pandas.io.formats.style.Styler at 0x1e4089dab00>"
      ]
     },
     "execution_count": 66,
     "metadata": {},
     "output_type": "execute_result"
    }
   ],
   "source": [
    "Demo = purchase_data.loc[:,[\"Gender\",\"SN\",\"Age\",]]\n",
    "Demo = Demo.drop_duplicates()\n",
    "\n",
    "Male_count= len(Demo[Demo[\"Gender\"] == \"Male\"])\n",
    "#Male_count\n",
    "Female_count= len(Demo[Demo[\"Gender\"]== \"Female\"])\n",
    "#Female_count\n",
    "Other_count = len(Demo[Demo[\"Gender\"]== \"Other / Non-Disclosed\"])\n",
    "#Other_count\n",
    "#Total_Player *already calculated above or Count = len(Demo[\"Gender\"])\n",
    "Percentage_male = (Male_count/Total_Player)*100\n",
    "Percentage_female = (Female_count/Total_Player)*100\n",
    "Percentage_other = (Other_count/Total_Player)*100\n",
    "\n",
    "Gender_demographics_df = pd.DataFrame({\"Gender\": [\"Male\",\"Female\",\"Other / Non-Disclosed\"],\"Total Count\": [Male_count,Female_count,Other_count],\"Percentage of Players\": [Percentage_male,Percentage_female,Percentage_other]})\n",
    "\n",
    "#Formatting % and 2 decimal places\n",
    "Gender_demographics_df_final= Gender_demographics_df.set_index(\"Gender\")\n",
    "Gender_demographics_df_final.style.format({\"Percentage of Players\": \"{:.2f}%\"})\n",
    "\n",
    "\n",
    "\n",
    "\n",
    "\n"
   ]
  },
  {
   "cell_type": "markdown",
   "metadata": {},
   "source": [
    "## Purchasing Analysis (Gender)"
   ]
  },
  {
   "cell_type": "code",
   "execution_count": 86,
   "metadata": {},
   "outputs": [
    {
     "data": {
      "text/plain": [
       "4.065371900826446"
      ]
     },
     "execution_count": 86,
     "metadata": {},
     "output_type": "execute_result"
    }
   ],
   "source": [
    "# Total Purchase counts\n",
    "Purchase_Cfemale= len(purchase_data[purchase_data[\"Gender\"] ==\"Female\"]) \n",
    "Purchase_Cmale = len(purchase_data[purchase_data[\"Gender\"] ==\"Male\"])\n",
    "Purchase_Cother = len(purchase_data[purchase_data[\"Gender\"] ==\"Other / Non-Disclosed\"])\n",
    "#Total purchase value\n",
    "TPurchase_value_M = purchase_data[purchase_data[\"Gender\"] ==\"Male\"][\"Price\"].sum()\n",
    "TPurchase_value_F = purchase_data[purchase_data[\"Gender\"] ==\"Female\"][\"Price\"].sum()\n",
    "TPurchase_value_O = purchase_data[purchase_data[\"Gender\"] ==\"Other / Non-Disclosed\"][\"Price\"].sum()\n",
    "\n",
    "#Average Purchase Price\n",
    "Average_Female = (TPurchase_value_F/Purchase_Cfemale)\n",
    "Average_Male = (TPurchase_value_M/Purchase_Cmale)\n",
    "Average_other = (TPurchase_value_O/Purchase_Cother)\n",
    "\n",
    "#Average total purchase per person (use counts from table with removed duplicates)\n",
    "Average_TPPP_male= (TPurchase_value_M/Male_count)\n",
    "Average_TPPP_female= (TPurchase_value_F/Female_count)\n",
    "Average_TPPP_Other = (TPurchase_value_O/Other_count)\n",
    "#Create data frame\n",
    "Purchasing_Analysis_Gender_df = pd.DataFrame({\"Gender\": [\"Male\",\"Female\",\"Other / Non-Disclosed\"],\"Purchase count\": [Male_count,Female_count,Other_count],\"Percentage of Players\": [Percentage_male,Percentage_female,Percentage_other]})\n"
   ]
  }
 ],
 "metadata": {
  "interpreter": {
   "hash": "bcabf1e79f8955defffefcd563b87114081d4335e77565609a5c8bfb73c1f9b3"
  },
  "kernelspec": {
   "display_name": "Python 3.6.10 ('PythonData')",
   "language": "python",
   "name": "python3"
  },
  "language_info": {
   "codemirror_mode": {
    "name": "ipython",
    "version": 3
   },
   "file_extension": ".py",
   "mimetype": "text/x-python",
   "name": "python",
   "nbconvert_exporter": "python",
   "pygments_lexer": "ipython3",
   "version": "3.6.10"
  },
  "orig_nbformat": 4
 },
 "nbformat": 4,
 "nbformat_minor": 2
}
